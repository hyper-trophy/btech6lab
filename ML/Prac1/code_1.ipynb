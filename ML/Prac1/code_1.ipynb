{
 "cells": [
  {
   "cell_type": "code",
   "execution_count": 1,
   "metadata": {},
   "outputs": [],
   "source": [
    "import numpy as np\n",
    "import pandas as pd"
   ]
  },
  {
   "cell_type": "code",
   "execution_count": 2,
   "metadata": {},
   "outputs": [],
   "source": [
    "data = pd.read_csv('./Data.csv')"
   ]
  },
  {
   "cell_type": "code",
   "execution_count": 52,
   "metadata": {},
   "outputs": [],
   "source": [
    "def seriesToList(series):\n",
    "    return [value for _, value in series.items()]\n",
    "\n",
    "def initialHypothesis(df):\n",
    "    for i, r in df.iterrows():\n",
    "        if r[-1] == 'Yes':\n",
    "            return seriesToList(r)\n",
    "\n",
    "def updateHypothisis(h, curr):\n",
    "    currList = seriesToList(curr)\n",
    "    if currList[-1] == 'Yes':\n",
    "        for i in range(len(h)):\n",
    "            if h[i] != '?' and h[i] != currList[i]:\n",
    "                h[i] = '?'"
   ]
  },
  {
   "cell_type": "code",
   "execution_count": 55,
   "metadata": {},
   "outputs": [
    {
     "name": "stdout",
     "output_type": "stream",
     "text": [
      "initial Hypothesis : ['Morning', 'Sunny', 'Warm', 'Yes', 'Mild ', 'Strong', 'Yes']\n",
      "final hypothesis : ['?', 'Sunny', '?', 'Yes', '?', '?']\n"
     ]
    }
   ],
   "source": [
    "h = initialHypothesis(data)\n",
    "print(f\"initial Hypothesis : {h}\")\n",
    "for i, r in data.iterrows():\n",
    "    updateHypothisis(h, r)\n",
    "print(f\"final hypothesis : {h[:-1]}\")"
   ]
  }
 ],
 "metadata": {
  "interpreter": {
   "hash": "f4cfd0891da33c7f32db2118fd2f709c0be5b18449e7b97ad81460526fb4190d"
  },
  "kernelspec": {
   "display_name": "Python 3.9.5 64-bit ('.env': venv)",
   "language": "python",
   "name": "python3"
  },
  "language_info": {
   "codemirror_mode": {
    "name": "ipython",
    "version": 3
   },
   "file_extension": ".py",
   "mimetype": "text/x-python",
   "name": "python",
   "nbconvert_exporter": "python",
   "pygments_lexer": "ipython3",
   "version": "3.9.5"
  },
  "orig_nbformat": 4
 },
 "nbformat": 4,
 "nbformat_minor": 2
}
