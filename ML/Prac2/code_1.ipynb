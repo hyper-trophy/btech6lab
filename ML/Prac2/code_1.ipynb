{
 "cells": [
  {
   "cell_type": "code",
   "execution_count": 1,
   "metadata": {},
   "outputs": [],
   "source": [
    "import numpy as np\n",
    "import pandas as pd"
   ]
  },
  {
   "cell_type": "code",
   "execution_count": 40,
   "metadata": {},
   "outputs": [],
   "source": [
    "class CandiateElimination:\n",
    "    def __init__(self, csvPath):\n",
    "        self.csvPath = csvPath\n",
    "        self.data = pd.read_csv(self.csvPath)\n",
    "        self.specificHypothesis = []\n",
    "        self.generalHypothesis = []\n",
    "        self.initailizeSpecificHypothesis()\n",
    "        self.hypothesisLength = len(self.specificHypothesis)\n",
    "        self.initalizeGeneralHypothesis()\n",
    "        \n",
    "    def seriesToList(self, series):\n",
    "        return [value for _, value in series.items()]\n",
    "    \n",
    "    def initailizeSpecificHypothesis(self):\n",
    "        for i, r in self.data.iterrows():\n",
    "            if r[-1] == 'Yes':\n",
    "                self.specificHypothesis =  self.seriesToList(r)[:-1]\n",
    "                break\n",
    "    \n",
    "    def initalizeGeneralHypothesis(self):\n",
    "        for i in range(self.hypothesisLength):\n",
    "            self.generalHypothesis.append(['?' for _ in range(self.hypothesisLength)])\n",
    "            \n",
    "    def updateSpecificHypothisis(self, instance):\n",
    "        for i in range(len(self.specificHypothesis)):\n",
    "            if self.specificHypothesis[i] != '?' and self.specificHypothesis[i] != instance[i]:\n",
    "                self.specificHypothesis[i] = '?'\n",
    "\n",
    "    def updateGeneralHypothisis(self, instance):\n",
    "        for i in range(self.hypothesisLength):\n",
    "            if self.specificHypothesis[i] != '?' and self.specificHypothesis[i] != instance[i]:\n",
    "                self.generalHypothesis[i][i] = self.specificHypothesis[i]\n",
    "    \n",
    "    def discardContradicting(self):\n",
    "        _generalHypothesis = []\n",
    "        for i in range(self.hypothesisLength):\n",
    "            if self.generalHypothesis[i][i] == self.specificHypothesis[i] and self.specificHypothesis[i] != '?':\n",
    "                _generalHypothesis.append(self.generalHypothesis[i])\n",
    "        self.generalHypothesis = _generalHypothesis\n",
    "    \n",
    "    def fit(self, instance):\n",
    "        currInstance = self.seriesToList(instance)\n",
    "        if currInstance[-1]=='Yes':\n",
    "            self.updateSpecificHypothisis(currInstance)\n",
    "        else:\n",
    "            self.updateGeneralHypothisis(currInstance)\n",
    "\n",
    "    def getHypothesis(self):\n",
    "        for i, r in self.data.iterrows():\n",
    "            self.fit(r)\n",
    "        self.discardContradicting()\n",
    "        return (self.specificHypothesis, self.generalHypothesis)\n",
    "        "
   ]
  },
  {
   "cell_type": "code",
   "execution_count": 42,
   "metadata": {},
   "outputs": [
    {
     "name": "stdout",
     "output_type": "stream",
     "text": [
      "Specific Hypothesis : ['Sunny', 'Warm ', '?', 'Strong', '?', '?']\n",
      "General Hypothesis : [['Sunny', '?', '?', '?', '?', '?'], ['?', 'Warm ', '?', '?', '?', '?']]\n"
     ]
    }
   ],
   "source": [
    "myHypothesis = CandiateElimination('cea.csv')\n",
    "(specific, general) = myHypothesis.getHypothesis()\n",
    "print(f\"\\\n",
    "Specific Hypothesis : {specific}\\n\\\n",
    "General Hypothesis : {general}\\\n",
    "\")"
   ]
  }
 ],
 "metadata": {
  "interpreter": {
   "hash": "f4cfd0891da33c7f32db2118fd2f709c0be5b18449e7b97ad81460526fb4190d"
  },
  "kernelspec": {
   "display_name": "Python 3.9.5 64-bit ('.env': venv)",
   "language": "python",
   "name": "python3"
  },
  "language_info": {
   "codemirror_mode": {
    "name": "ipython",
    "version": 3
   },
   "file_extension": ".py",
   "mimetype": "text/x-python",
   "name": "python",
   "nbconvert_exporter": "python",
   "pygments_lexer": "ipython3",
   "version": "3.9.5"
  },
  "orig_nbformat": 4
 },
 "nbformat": 4,
 "nbformat_minor": 2
}
